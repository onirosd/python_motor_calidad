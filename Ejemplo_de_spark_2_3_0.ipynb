{
  "cells": [
    {
      "cell_type": "markdown",
      "metadata": {
        "id": "view-in-github",
        "colab_type": "text"
      },
      "source": [
        "<a href=\"https://colab.research.google.com/github/onirosd/python_motor_calidad/blob/main/Ejemplo_de_spark_2_3_0.ipynb\" target=\"_parent\"><img src=\"https://colab.research.google.com/assets/colab-badge.svg\" alt=\"Open In Colab\"/></a>"
      ]
    },
    {
      "cell_type": "code",
      "execution_count": 1,
      "metadata": {
        "id": "5Fg6HBSozT5o"
      },
      "outputs": [],
      "source": [
        "# !sudo apt update\n",
        "# !apt-get install openjdk-8-jdk-headless -qq > /dev/null"
      ]
    },
    {
      "cell_type": "code",
      "execution_count": 2,
      "metadata": {
        "id": "9Ouc7Yjg0fkY"
      },
      "outputs": [],
      "source": [
        "# !wget  https://archive.apache.org/dist/spark/spark-2.3.0/spark-2.3.0-bin-hadoop2.6.tgz   # Using Older Version "
      ]
    },
    {
      "cell_type": "code",
      "execution_count": 3,
      "metadata": {
        "id": "Fza_wZcE1Hq8"
      },
      "outputs": [],
      "source": [
        "# !tar xf spark-2.3.0-bin-hadoop2.6.tgz\n",
        "#!tar xf spark-3.2.1-bin-hadoop3.2.tgz"
      ]
    },
    {
      "cell_type": "code",
      "execution_count": 4,
      "metadata": {
        "id": "thW4Mt0a1NFn"
      },
      "outputs": [],
      "source": [
        "import os\n",
        "os.environ[\"JAVA_HOME\"] = \"/usr/lib/jvm/java-8-openjdk-amd64\"\n",
        "os.environ[\"SPARK_HOME\"] = \"/content/spark-2.3.0-bin-hadoop2.6\""
      ]
    },
    {
      "cell_type": "markdown",
      "metadata": {
        "id": "0hQyHH1HquSG"
      },
      "source": []
    },
    {
      "cell_type": "code",
      "execution_count": 5,
      "metadata": {
        "id": "PMfPjZzH1Ts2"
      },
      "outputs": [],
      "source": [
        "!pip install -q findspark\n",
        "import findspark\n",
        "findspark.init()"
      ]
    },
    {
      "cell_type": "code",
      "execution_count": 6,
      "metadata": {
        "id": "_e8O5MlI1a4r"
      },
      "outputs": [],
      "source": [
        "import pyspark \n",
        "from pyspark.sql import SparkSession\n",
        "from pyspark.sql import functions as F\n",
        "from pyspark.sql.utils import AnalysisException\n",
        "from pyspark.sql.functions import col,lit, concat,desc,from_unixtime, when, to_date, unix_timestamp, current_date\n",
        "from pyspark.sql.window import *\n",
        "import sys\n",
        "from datetime import datetime\n",
        "import funciones as f\n",
        "\n",
        "#sc = spark.sparkContext\n",
        "#sc"
      ]
    },
    {
      "cell_type": "code",
      "source": [
        "PRM_RUTA = ''\n",
        "PRM_NOMBRE = 'DOS'\n",
        "PRM_SECUENCIA = '2'\n",
        "\n",
        "CONS_FORMATO_FECHA_RUTINA = \"%Y-%m-%d\"\n",
        "CONS_FORMATO_FECHA_MES_ANIO = \"%Y%m\"\n",
        "CONS_FORMATO_FECHA_MES_ANIO_DIA = \"%Y%m%d\"\t"
      ],
      "metadata": {
        "id": "fCgFePyWHK6o"
      },
      "execution_count": 7,
      "outputs": []
    },
    {
      "cell_type": "code",
      "source": [
        "rutaConfiguracionRecursos = PRM_RUTA+\"JSON_CFG_\"+PRM_NOMBRE+\"_\"+PRM_SECUENCIA+\".json\"\n",
        "#spark = eval(f.cargaConfiguracionDeRecursosSpark(rutaConfiguracionRecursos))\n",
        "#spark.sparkContext.setLogLevel(\"ERROR\")\n",
        "spark = SparkSession.builder.master(\"local[*]\").getOrCreate()\n",
        "spark = SparkSession.builder\\\n",
        "        .master(\"local\")\\\n",
        "        .appName(\"Colab_Diego\")\\\n",
        "        .config('spark.ui.port', '4050')\\\n",
        "        .getOrCreate()\n",
        "spark.sparkContext.setLogLevel(\"ERROR\")"
      ],
      "metadata": {
        "id": "Wt_6JWrJINdy"
      },
      "execution_count": 8,
      "outputs": []
    },
    {
      "cell_type": "code",
      "source": [
        "rutaConfiguracionProceso = PRM_RUTA+\"JSON_PRM_\"+PRM_NOMBRE+\"_\"+PRM_SECUENCIA+\".json\"\n",
        "MAP_PROCESS_CONFIGURATION = f.cargaConfiguracionDeParametrosProceso(rutaConfiguracionProceso)\n",
        "\n",
        "PRM_FECHA_RUTINA = MAP_PROCESS_CONFIGURATION['PRM_SPARK_FECHA_RUTINA'] + ' 00:00:00'\n",
        "\n",
        "PRM_ESQUEMA_TABLA_INPUT =  MAP_PROCESS_CONFIGURATION['PRM_SPARK_ESQUEMA_TABLA_INPUT']  \n",
        "#PRM_TABLA_COLUMNAS = MAP_PROCESS_CONFIGURATION['PRM_SPARK_NOMBRE_COLUMNAS']\n",
        "\n",
        "\n",
        "\n",
        "PRM_SPARK_TABLA_INPUT= MAP_PROCESS_CONFIGURATION['PRM_SPARK_TABLA_INPUT']\n",
        "#PRM_SPARK_RUTA_FUNCIONES_MOTOR_CALIDAD = MAP_PROCESS_CONFIGURATION['PRM_SPARK_RUTA_FUNCIONES_MOTOR_CALIDAD']\n",
        "PRM_FECHA_RUTINA_MOTOR = MAP_PROCESS_CONFIGURATION['PRM_SPARK_FECHA_RUTINA']\n",
        "PRM_SPARK_MOTOR_CALIDAD = MAP_PROCESS_CONFIGURATION['PRM_SPARK_MOTOR_CALIDAD']\n",
        "PRM_SPARK_RUTACALIDAD = MAP_PROCESS_CONFIGURATION['PRM_SPARK_RUTACALIDAD']\n",
        "PRM_SPARK_TIPFRECUENCIAREGISTRO = MAP_PROCESS_CONFIGURATION['PRM_SPARK_TIPFRECUENCIAREGISTRO']"
      ],
      "metadata": {
        "id": "pc0F6HIy8lmC"
      },
      "execution_count": 9,
      "outputs": []
    },
    {
      "cell_type": "code",
      "source": [
        "from motorcalidad2 import *"
      ],
      "metadata": {
        "id": "Knpv-VM28loX"
      },
      "execution_count": 10,
      "outputs": []
    },
    {
      "cell_type": "code",
      "source": [
        "def BorrarTemporales(rutaArchivo, nombreCarpeta):\n",
        "    (ret, out, err) = run_cmd(['hdfs', 'dfs', '-rm', '-r', '-f', \"-skipTrash\", rutaArchivo + nombreCarpeta])\n",
        "\n",
        "\n",
        "def F_determinaUniversoCalidad():\n",
        "\n",
        "    #Gerar codDia\n",
        "    codDia = datetime.strptime(PRM_FECHA_RUTINA_MOTOR, CONS_FORMATO_FECHA_RUTINA).strftime(CONS_FORMATO_FECHA_MES_ANIO_DIA)\n",
        "    print('1.1. >>> imprimos dia '+codDia)\n",
        "\n",
        "\t#print(\">>> \"+str(codDia))\n",
        "    # Llenar estadisticos para el motor de calidad\n",
        "    print(PRM_SPARK_MOTOR_CALIDAD+\"//\"+PRM_SPARK_RUTACALIDAD+\"//\"+PRM_ESQUEMA_TABLA_INPUT+\"//\"+PRM_SPARK_TABLA_INPUT+\"//\"+PRM_FECHA_RUTINA_MOTOR+\"//\"+PRM_SPARK_TIPFRECUENCIAREGISTRO)\n",
        "    calculaestadisticos3(spark, PRM_SPARK_MOTOR_CALIDAD, PRM_SPARK_RUTACALIDAD, PRM_ESQUEMA_TABLA_INPUT, PRM_SPARK_TABLA_INPUT, codDia, codDia, PRM_FECHA_RUTINA_MOTOR, PRM_SPARK_TIPFRECUENCIAREGISTRO)\n",
        "    # intervaloConfianza2(spark, PRM_SPARK_MOTOR_CALIDAD, PRM_ESQUEMA_TABLA_INPUT, PRM_SPARK_TABLA_INPUT, PRM_FECHA_RUTINA_MOTOR, PRM_SPARK_TIPFRECUENCIAREGISTRO)\n",
        "def main():\n",
        "\n",
        "    print('1. >>> entramos al main')\n",
        "    F_determinaUniversoCalidad()\n",
        "    "
      ],
      "metadata": {
        "id": "DSMD9AmHBgD4"
      },
      "execution_count": 11,
      "outputs": []
    },
    {
      "cell_type": "code",
      "source": [
        "main()"
      ],
      "metadata": {
        "colab": {
          "base_uri": "https://localhost:8080/"
        },
        "id": "DPnqmv12BgGK",
        "outputId": "3dacd334-6a5f-4a30-80a2-8dfe1095a365"
      },
      "execution_count": 12,
      "outputs": [
        {
          "output_type": "stream",
          "name": "stdout",
          "text": [
            "1. >>> entramos al main\n",
            "1.1. >>> imprimos dia 20190728\n",
            "BCP_DDV_GOBIERNO_MOTORESCALIDAD///desa/bcp/ddv/gobierno/motorescalidad//BCP_UDV_INT//H_TRANSACCIONCONTABLE//2019-07-28//D\n",
            "+-----------------------+-----------------------+--------------------+--------+--------------------+------+---------------+-----------------------+---------+-----------------+--------------------+-------------+----------------+------------------------------+--------------------------+--------------------------------+-------------------------------+--------------------------+--------------------+-----------------+--------------------+-----------------------+---------------------------------+----------------------------+-----------------+----------------+---------------+--------------------+--------------+--------------+----------------+-----------------+------------------+-----------+---------------+--------------------+--------+--------+--------------------+\n",
            "|CODCLAVESECUENCIALCAMPO|CODCLAVESECUENCIALREGLA|            CODREGLA|NBRREGLA|            DESREGLA|CODAPP|SECUENCIALTABLA|CODCLAVESECUENCIALTABLA| NBRCAMPO|FLGCALCULOSUMPROM|FLGGENERAESTADISTICO|FLGCAMPOLLAVE|FLGALERTANULIDAD|CODCLAVESECUENCIALORGANIZACION|CODCLAVESECUENCIALCAPAHDFS|CODCLAVESECUENCIALUNIDADSOLUCION|CODCLAVESECUENCIALCATEGSOLUCION|CODCLAVESECUENCIALSOLUCION|            NBRTABLA|NUMPERIODOINICIAL|FLGCALCULOMEDIAMOVIL|FLGAGRUPAPERIODOMENSUAL|NBRCAMPOFRECUENCIATABLAEVALUACION|TIPFRECUENCIATABLAEVALUACION|CTDCHEBYSHEVAMBAR|CTDCHEBYSHEVROJO|NUMPERIODOFINAL|   DESDIRELECTRONICA|   CODSOLUCION|   NBRSOLUCION|NBRCATEGSOLUCION|CODUNIDADSOLUCION| NBRUNIDADSOLUCION|CODCAPAHDFS|CODORGANIZACION|     NBRORGANIZACION|CODCAMPO|CODTABLA|CODCATEGORIASOLUCION|\n",
            "+-----------------------+-----------------------+--------------------+--------+--------------------+------+---------------+-----------------------+---------+-----------------+--------------------+-------------+----------------+------------------------------+--------------------------+--------------------------------+-------------------------------+--------------------------+--------------------+-----------------+--------------------+-----------------------+---------------------------------+----------------------------+-----------------+----------------+---------------+--------------------+--------------+--------------+----------------+-----------------+------------------+-----------+---------------+--------------------+--------+--------+--------------------+\n",
            "|                      1|                      1|RC_UDV_CLC_CLC_CN...|  CONTEO|AND CODAPP = ''VP...|  VPLU|              1|                      1|FECRUTINA|                0|                   1|            0|               1|                             1|                         1|                               1|                              1|                         1|BCP_UDV_INT.H_TRA...|             NULL|                   1|                      1|                        FECRUTINA|                           D|             NULL|            NULL|           NULL|GANDHIVILELA@BCP....|MOTORESCALIDAD|MOTORESCALIDAD|  MOTORESCALIDAD|         GOBIERNO|GOBIERNO Y CALIDAD|    BCP_UDV|            BCP|BANCO DE CRÉDITO ...|       1|       1|                   1|\n",
            "|                      1|                      2|RC_UDV_CLC_CLC_CN...|  CONTEO|AND CODAPP = ''TB...|  TBIE|              1|                      1|FECRUTINA|                0|                   1|            0|               1|                             1|                         1|                               1|                              1|                         1|BCP_UDV_INT.H_TRA...|             NULL|                   1|                      1|                        FECRUTINA|                           D|             NULL|            NULL|           NULL|GANDHIVILELA@BCP....|MOTORESCALIDAD|MOTORESCALIDAD|  MOTORESCALIDAD|         GOBIERNO|GOBIERNO Y CALIDAD|    BCP_UDV|            BCP|BANCO DE CRÉDITO ...|       1|       1|                   1|\n",
            "|                      1|                      3|RC_UDV_CLC_CLC_CN...|  CONTEO|AND CODAPP = ''ALS''|   ALS|              1|                      1|FECRUTINA|                0|                   1|            0|               1|                             1|                         1|                               1|                              1|                         1|BCP_UDV_INT.H_TRA...|             NULL|                   1|                      1|                        FECRUTINA|                           D|             NULL|            NULL|           NULL|GANDHIVILELA@BCP....|MOTORESCALIDAD|MOTORESCALIDAD|  MOTORESCALIDAD|         GOBIERNO|GOBIERNO Y CALIDAD|    BCP_UDV|            BCP|BANCO DE CRÉDITO ...|       1|       1|                   1|\n",
            "|                      1|                      4|RC_UDV_CLC_CLC_CN...|  CONTEO|AND CODAPP = ''CR...|  CREC|              1|                      1|FECRUTINA|                0|                   1|            0|               1|                             1|                         1|                               1|                              1|                         1|BCP_UDV_INT.H_TRA...|             NULL|                   1|                      1|                        FECRUTINA|                           D|             NULL|            NULL|           NULL|GANDHIVILELA@BCP....|MOTORESCALIDAD|MOTORESCALIDAD|  MOTORESCALIDAD|         GOBIERNO|GOBIERNO Y CALIDAD|    BCP_UDV|            BCP|BANCO DE CRÉDITO ...|       1|       1|                   1|\n",
            "+-----------------------+-----------------------+--------------------+--------+--------------------+------+---------------+-----------------------+---------+-----------------+--------------------+-------------+----------------+------------------------------+--------------------------+--------------------------------+-------------------------------+--------------------------+--------------------+-----------------+--------------------+-----------------------+---------------------------------+----------------------------+-----------------+----------------+---------------+--------------------+--------------+--------------+----------------+-----------------+------------------+-----------+---------------+--------------------+--------+--------+--------------------+\n",
            "\n",
            "[\"SELECT count(FECRUTINA) AS CTDREGVALORNONULO, 0 AS NUMVALORSUM,0 AS NUMVALORMIN,0 AS NUMVALORMAX,0 AS NUMVALORPROM,sum(case when FECRUTINA is null then 1 else 0 end) AS CTDREGVALORNULO, 'BCP_UDV_INT.H_TRANSACCIONCONTABLE' AS NBRTABLA,'20190728' AS NUMPERIODO,count(1) AS CTDTOTALREG, 'FECRUTINA' AS NBRVARIABLE, 'RC_UDV_CLC_CLC_CNT_00002' AS CODCLAVEREGLA, 1 AS CODCLAVECAMPO FROM BCP_UDV_INT.H_TRANSACCIONCONTABLE WHERE CAST(DATE_FORMAT(FECRUTINA,'YYYYMMdd') AS INT)='20190728' AND CODAPP = 'VPLU' UNION ALL \", \"SELECT count(FECRUTINA) AS CTDREGVALORNONULO, 0 AS NUMVALORSUM,0 AS NUMVALORMIN,0 AS NUMVALORMAX,0 AS NUMVALORPROM,sum(case when FECRUTINA is null then 1 else 0 end) AS CTDREGVALORNULO, 'BCP_UDV_INT.H_TRANSACCIONCONTABLE' AS NBRTABLA,'20190728' AS NUMPERIODO,count(1) AS CTDTOTALREG, 'FECRUTINA' AS NBRVARIABLE, 'RC_UDV_CLC_CLC_CNT_00001' AS CODCLAVEREGLA, 1 AS CODCLAVECAMPO FROM BCP_UDV_INT.H_TRANSACCIONCONTABLE WHERE CAST(DATE_FORMAT(FECRUTINA,'YYYYMMdd') AS INT)='20190728' AND CODAPP = 'TBIE' UNION ALL \", \"SELECT count(FECRUTINA) AS CTDREGVALORNONULO, 0 AS NUMVALORSUM,0 AS NUMVALORMIN,0 AS NUMVALORMAX,0 AS NUMVALORPROM,sum(case when FECRUTINA is null then 1 else 0 end) AS CTDREGVALORNULO, 'BCP_UDV_INT.H_TRANSACCIONCONTABLE' AS NBRTABLA,'20190728' AS NUMPERIODO,count(1) AS CTDTOTALREG, 'FECRUTINA' AS NBRVARIABLE, 'RC_UDV_CLC_CLC_CNT_00003' AS CODCLAVEREGLA, 1 AS CODCLAVECAMPO FROM BCP_UDV_INT.H_TRANSACCIONCONTABLE WHERE CAST(DATE_FORMAT(FECRUTINA,'YYYYMMdd') AS INT)='20190728' AND CODAPP = 'ALS' UNION ALL \", \"SELECT count(FECRUTINA) AS CTDREGVALORNONULO, 0 AS NUMVALORSUM,0 AS NUMVALORMIN,0 AS NUMVALORMAX,0 AS NUMVALORPROM,sum(case when FECRUTINA is null then 1 else 0 end) AS CTDREGVALORNULO, 'BCP_UDV_INT.H_TRANSACCIONCONTABLE' AS NBRTABLA,'20190728' AS NUMPERIODO,count(1) AS CTDTOTALREG, 'FECRUTINA' AS NBRVARIABLE, 'RC_UDV_CLC_CLC_CNT_00004' AS CODCLAVEREGLA, 1 AS CODCLAVECAMPO FROM BCP_UDV_INT.H_TRANSACCIONCONTABLE WHERE CAST(DATE_FORMAT(FECRUTINA,'YYYYMMdd') AS INT)='20190728' AND CODAPP = 'CREC' UNION ALL \"]\n"
          ]
        }
      ]
    },
    {
      "cell_type": "code",
      "source": [
        "#spark.stop()"
      ],
      "metadata": {
        "id": "Y8VJa46DHrwM"
      },
      "execution_count": 13,
      "outputs": []
    },
    {
      "cell_type": "code",
      "source": [],
      "metadata": {
        "id": "CvVZ8Mz5BgIX"
      },
      "execution_count": 13,
      "outputs": []
    },
    {
      "cell_type": "markdown",
      "source": [],
      "metadata": {
        "id": "HU7clifJKEND"
      }
    },
    {
      "cell_type": "code",
      "source": [],
      "metadata": {
        "id": "6D82WTdvBgKB"
      },
      "execution_count": 13,
      "outputs": []
    },
    {
      "cell_type": "code",
      "source": [],
      "metadata": {
        "id": "bIT5sdr98lqm"
      },
      "execution_count": 13,
      "outputs": []
    },
    {
      "cell_type": "code",
      "execution_count": 14,
      "metadata": {
        "id": "PDnl_b284cV7"
      },
      "outputs": [],
      "source": [
        "#df = spark.read.format(\"csv\").option(\"delimiter\", \";\").option(\"header\", \"true\").load(\"revisar_excel.csv\")"
      ]
    },
    {
      "cell_type": "code",
      "source": [
        "# df2 = df.select(col(\"NBRCAMPO\").alias(\"nbrcampo\"),col(\"DESREGLA\").alias(\"desregla\"),col(\"CODREGLA\").alias(\"codregla\"),col(\"FLGCALCULOSUMPROM\"), col(\"CODCAMPO\"))\n",
        "\n",
        "# nameFinalTable = 'esquema' + '.' + 'prueba'\n",
        "# campoanalisis   = ''\n",
        "# campofrecuencia = ''\n",
        "# listcadena1 = []\n",
        "# while df2.count() > 0:\n",
        "#   column = df2.first()\n",
        "#   if column['FLGCALCULOSUMPROM'] == '1':\n",
        "#     cadena = 'SELECT count(' + column[\"nbrcampo\"] + ') AS CTDREGVALORNONULO,' + 'sum(' + column[\"nbrcampo\"] + ') AS NUMVALORSUM,' + 'min(' + column[\"nbrcampo\"] + ') AS NUMVALORMIN,' \\\n",
        "#                      + 'max(' + column[\"nbrcampo\"] + ') AS NUMVALORMAX,' + 'avg(' + column[\"nbrcampo\"] + ') AS NUMVALORPROM,' + 'sum(case when ' + column[\"nbrcampo\"] + ' is null then 1 else 0 end) AS CTDREGVALORNULO, ' + \"'\" + str(\n",
        "#                 nameFinalTable) + \"'\" + ' AS NBRTABLA,' \\\n",
        "#                      + \"'\" + str(campoanalisis) + \"'\" + ' AS NUMPERIODO,' + 'count(1) AS CTDTOTALREG, ' + \"'\" + str(\n",
        "#                 column[\"nbrcampo\"]) + \"'\" + ' AS NBRVARIABLE, '  + \"'\" +str(column[\"codregla\"])+ \"'\" + ' AS CODCLAVEREGLA, ' + str(column[\"CODCAMPO\"]) + ' AS CODCLAVECAMPO FROM ' + str(nameFinalTable) \\\n",
        "#                      + ' WHERE ' + campofrecuencia + '=' + \"'\" + str(campoanalisis) + \"'\" + ' ' + \"\" + str(column[\"desregla\"]).replace(\"''\",\"'\") + \"\"\n",
        "#     listcadena1.append(cadena + ' UNION ALL ')\n",
        "\n",
        "  \n",
        "#   else:\n",
        "#     cad = 'SELECT count(' + column[\"nbrcampo\"] + ') AS CTDREGVALORNONULO, 0 AS NUMVALORSUM,0 AS NUMVALORMIN,0 AS NUMVALORMAX,0 AS NUMVALORPROM,' + 'sum(case when ' + column[\"nbrcampo\"] + ' is null then 1 else 0 end) AS CTDREGVALORNULO, ' + \"'\" + str(\n",
        "#                 nameFinalTable) + \"'\" + ' AS NBRTABLA,' \\\n",
        "#                   + \"'\" + str(campoanalisis) + \"'\" + ' AS NUMPERIODO,' + 'count(1) AS CTDTOTALREG, ' + \"'\" + str(\n",
        "#                 column[\"nbrcampo\"]) + \"'\" + ' AS NBRVARIABLE, '+ \"'\" +str(column[\"codregla\"])+ \"'\" + ' AS CODCLAVEREGLA, ' + str(column[\"CODCAMPO\"]) + ' AS CODCLAVECAMPO FROM ' + str(nameFinalTable) \\\n",
        "#                   + ' WHERE ' + campofrecuencia + '=' + \"'\" + str(campoanalisis) + \"'\" + ' ' + \"\" + str(column[\"desregla\"]).replace(\"''\",\"'\") + \"\"\n",
        "#     listcadena1.append(cad + ' UNION ALL ')\n",
        "\n",
        "\n",
        "#   df2 = df2.filter(col('nbrcampo') != column['nbrcampo'])\n",
        " \n",
        "\n"
      ],
      "metadata": {
        "id": "9C0eemArW9_v"
      },
      "execution_count": 15,
      "outputs": []
    }
  ],
  "metadata": {
    "colab": {
      "collapsed_sections": [],
      "name": "Ejemplo  de spark 2.3.0",
      "provenance": [],
      "mount_file_id": "1U7H7SRV47BkjhiflZLm1AR_jEddO801W",
      "authorship_tag": "ABX9TyN0zTWy2+yEoFYw8ukW405f",
      "include_colab_link": true
    },
    "kernelspec": {
      "display_name": "Python 3",
      "name": "python3"
    },
    "language_info": {
      "name": "python"
    }
  },
  "nbformat": 4,
  "nbformat_minor": 0
}